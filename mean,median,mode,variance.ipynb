{
 "cells": [
  {
   "cell_type": "code",
   "execution_count": 1,
   "metadata": {},
   "outputs": [
    {
     "name": "stdout",
     "output_type": "stream",
     "text": [
      "40.0\n"
     ]
    }
   ],
   "source": [
    "#mean\n",
    "def mean(list):\n",
    "    sum=0\n",
    "    for i in list:\n",
    "        sum=sum+i\n",
    "    \n",
    "    mean=sum/len(list)\n",
    "    return mean\n",
    "list=(10,20,30,40,50,60,70)\n",
    "print(mean(list))"
   ]
  },
  {
   "cell_type": "code",
   "execution_count": 3,
   "metadata": {
    "scrolled": false
   },
   "outputs": [
    {
     "name": "stdout",
     "output_type": "stream",
     "text": [
      "40\n"
     ]
    }
   ],
   "source": [
    "#median\n",
    "l1=[10,20,30,40,50,60,70]\n",
    "i=int(len(l1)/2)\n",
    "if i%2==0:\n",
    "    res=(l1[i]+l1[i+1]/2)\n",
    "else:\n",
    "    res=l1[i]\n",
    "print(res)"
   ]
  },
  {
   "cell_type": "code",
   "execution_count": 6,
   "metadata": {},
   "outputs": [
    {
     "name": "stdout",
     "output_type": "stream",
     "text": [
      "MODE: 40\n"
     ]
    }
   ],
   "source": [
    "#mode\n",
    "l1=[10,20,30,40,40,50,60,70]\n",
    "m={}\n",
    "for i in l1:\n",
    "    if i in m:\n",
    "        m[i]=m[i]+1\n",
    "    else:\n",
    "        m[i]=1\n",
    "max=0\n",
    "for i in m:\n",
    "    if(m[i]>max):\n",
    "        max=m[i]\n",
    "        ans=i\n",
    "print(\"MODE:\",ans)"
   ]
  },
  {
   "cell_type": "code",
   "execution_count": 7,
   "metadata": {},
   "outputs": [
    {
     "name": "stdout",
     "output_type": "stream",
     "text": [
      "varince 400.0\n"
     ]
    }
   ],
   "source": [
    "#variance\n",
    "def var(l):\n",
    "    ans=mean(l)\n",
    "    \n",
    "    sum1=0\n",
    "    for i in l:\n",
    "        sum1+=(ans-i)**2\n",
    "    return sum1/len(l)\n",
    "l=[10,20,30,40,50,60,70]\n",
    "print(\"varince\",var(l))"
   ]
  },
  {
   "cell_type": "code",
   "execution_count": 8,
   "metadata": {},
   "outputs": [
    {
     "name": "stdout",
     "output_type": "stream",
     "text": [
      "S.D: 20.0\n"
     ]
    }
   ],
   "source": [
    "#S.D\n",
    "def sd(l):\n",
    "    temp=var(l)\n",
    "    return temp**0.5\n",
    "\n",
    "l=[10,20,30,40,50,60,70]\n",
    "print(\"S.D:\",sd(l))"
   ]
  },
  {
   "cell_type": "code",
   "execution_count": 20,
   "metadata": {},
   "outputs": [
    {
     "name": "stdout",
     "output_type": "stream",
     "text": [
      "0.0\n",
      "0.16666666666666666\n",
      "0.3333333333333333\n",
      "0.5\n",
      "0.6666666666666666\n",
      "0.8333333333333334\n",
      "1.0\n"
     ]
    }
   ],
   "source": [
    "#normalizaion\n",
    "def n(l):\n",
    "    min=l[0]\n",
    "    max=l[0]\n",
    "    for i in l:\n",
    "        if(i>max):\n",
    "            max=i\n",
    "        elif(i<min):\n",
    "            min=i\n",
    "            \n",
    "            \n",
    "    for i in l:\n",
    "        print((i-min)/(max-min))\n",
    "        \n",
    "l=(10,20,30,40,50,60,70)\n",
    "n(l)"
   ]
  },
  {
   "cell_type": "code",
   "execution_count": 21,
   "metadata": {},
   "outputs": [
    {
     "name": "stdout",
     "output_type": "stream",
     "text": [
      "-1.5\n",
      "-1.0\n",
      "-0.5\n",
      "0.0\n",
      "0.5\n",
      "1.0\n",
      "1.5\n"
     ]
    }
   ],
   "source": [
    "#standarization\n",
    "def std(l):\n",
    "    for i in l:\n",
    "        print((i-mean(l))/sd(l))\n",
    "l=(10,20,30,40,50,60,70)\n",
    "std(l)"
   ]
  },
  {
   "cell_type": "code",
   "execution_count": null,
   "metadata": {},
   "outputs": [],
   "source": []
  }
 ],
 "metadata": {
  "kernelspec": {
   "display_name": "Python 3",
   "language": "python",
   "name": "python3"
  },
  "language_info": {
   "codemirror_mode": {
    "name": "ipython",
    "version": 3
   },
   "file_extension": ".py",
   "mimetype": "text/x-python",
   "name": "python",
   "nbconvert_exporter": "python",
   "pygments_lexer": "ipython3",
   "version": "3.8.10"
  }
 },
 "nbformat": 4,
 "nbformat_minor": 4
}
